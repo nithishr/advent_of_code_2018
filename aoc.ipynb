{
 "cells": [
  {
   "cell_type": "markdown",
   "metadata": {},
   "source": [
    "# Advent of Code 2018 \n",
    "https://adventofcode.com/2018/"
   ]
  },
  {
   "cell_type": "markdown",
   "metadata": {},
   "source": [
    "## Day 1"
   ]
  },
  {
   "cell_type": "code",
   "execution_count": 1,
   "metadata": {},
   "outputs": [
    {
     "data": {
      "text/plain": [
       "1023"
      ]
     },
     "execution_count": 1,
     "metadata": {},
     "output_type": "execute_result"
    }
   ],
   "source": [
    "with open('day1.txt', 'r') as f:\n",
    "    l = f.readlines()\n",
    "len(l)"
   ]
  },
  {
   "cell_type": "code",
   "execution_count": 2,
   "metadata": {},
   "outputs": [
    {
     "data": {
      "text/plain": [
       "['+9\\n', '+1\\n', '-11\\n', '+12\\n', '+17\\n']"
      ]
     },
     "execution_count": 2,
     "metadata": {},
     "output_type": "execute_result"
    }
   ],
   "source": [
    "l[0:5]"
   ]
  },
  {
   "cell_type": "markdown",
   "metadata": {},
   "source": [
    "### Part A"
   ]
  },
  {
   "cell_type": "code",
   "execution_count": 3,
   "metadata": {},
   "outputs": [
    {
     "name": "stdout",
     "output_type": "stream",
     "text": [
      "590\n"
     ]
    }
   ],
   "source": [
    "frequency = 0\n",
    "for i in l:\n",
    "    frequency += int(i.strip())\n",
    "print(frequency)"
   ]
  },
  {
   "cell_type": "markdown",
   "metadata": {},
   "source": [
    "### Part B"
   ]
  },
  {
   "cell_type": "code",
   "execution_count": 4,
   "metadata": {},
   "outputs": [
    {
     "name": "stdout",
     "output_type": "stream",
     "text": [
      "1023 [9, 1, -11, 12, 17]\n"
     ]
    }
   ],
   "source": [
    "l_int = [int(i.strip()) for i in l]\n",
    "print(len(l_int), l_int[:5])"
   ]
  },
  {
   "cell_type": "code",
   "execution_count": 5,
   "metadata": {},
   "outputs": [],
   "source": [
    "def calculate_repeat(list_int):\n",
    "    frequency_list = [0]\n",
    "    cur_f = list_int[0]\n",
    "    count = 1\n",
    "    max_count = len(list_int) - 1\n",
    "    while cur_f not in frequency_list:\n",
    "        frequency_list.append(cur_f)\n",
    "        cur_f += list_int[count] \n",
    "        count += 1\n",
    "        if count > max_count:\n",
    "            count = 0\n",
    "    return cur_f\n"
   ]
  },
  {
   "cell_type": "code",
   "execution_count": 6,
   "metadata": {},
   "outputs": [
    {
     "name": "stdout",
     "output_type": "stream",
     "text": [
      "0\n",
      "10\n",
      "5\n",
      "14\n"
     ]
    }
   ],
   "source": [
    "print(calculate_repeat([+1, -1]))\n",
    "print(calculate_repeat([+3, +3, +4, -2, -4]))\n",
    "print(calculate_repeat([-6, +3, +8, +5, -6]))\n",
    "print(calculate_repeat([+7, +7, -2, -7, -4]))"
   ]
  },
  {
   "cell_type": "code",
   "execution_count": 7,
   "metadata": {},
   "outputs": [
    {
     "name": "stdout",
     "output_type": "stream",
     "text": [
      "83445\n"
     ]
    }
   ],
   "source": [
    "print(calculate_repeat(l_int))"
   ]
  },
  {
   "cell_type": "markdown",
   "metadata": {},
   "source": [
    "## Day 2"
   ]
  },
  {
   "cell_type": "code",
   "execution_count": 3,
   "metadata": {},
   "outputs": [
    {
     "name": "stdout",
     "output_type": "stream",
     "text": [
      "250 ['oiwcdpbseqgxryfmlpktnupvza', 'oiwddpbsuqhxryfmlgkznujvza', 'ziwcdpbsechxrvfmlgktnujvza', 'oiwcgpbseqhxryfmmgktnhjvza', 'owwcdpbseqhxryfmlgktnqjvze']\n"
     ]
    }
   ],
   "source": [
    "with open('day2.txt', 'r') as f:\n",
    "    lines = f.readlines()\n",
    "    lines = [l.strip() for l in lines]\n",
    "    print(len(lines), lines[:5])"
   ]
  },
  {
   "cell_type": "code",
   "execution_count": 19,
   "metadata": {},
   "outputs": [],
   "source": [
    "def count_chars(string):\n",
    "    counts = {}\n",
    "    for char in string:\n",
    "        if char not in counts:\n",
    "            counts[char] = string.count(char)\n",
    "    return counts"
   ]
  },
  {
   "cell_type": "code",
   "execution_count": 6,
   "metadata": {},
   "outputs": [
    {
     "name": "stdout",
     "output_type": "stream",
     "text": [
      "{'a': 1, 'b': 1, 'c': 1, 'd': 1, 'e': 1, 'f': 1}\n",
      "{'b': 3, 'a': 2, 'c': 1}\n"
     ]
    }
   ],
   "source": [
    "print(count_chars('abcdef'))\n",
    "print(count_chars('bababc'))"
   ]
  },
  {
   "cell_type": "code",
   "execution_count": 20,
   "metadata": {},
   "outputs": [],
   "source": [
    "def count_occurences(counts, number):\n",
    "    return list(counts.values()).count(number)"
   ]
  },
  {
   "cell_type": "code",
   "execution_count": 13,
   "metadata": {},
   "outputs": [
    {
     "data": {
      "text/plain": [
       "1"
      ]
     },
     "execution_count": 13,
     "metadata": {},
     "output_type": "execute_result"
    }
   ],
   "source": [
    "counts = {'b': 3, 'a': 2, 'c': 1}\n",
    "list(counts.values()).count(1)"
   ]
  },
  {
   "cell_type": "code",
   "execution_count": 22,
   "metadata": {},
   "outputs": [
    {
     "name": "stdout",
     "output_type": "stream",
     "text": [
      "{'b': 3, 'a': 2, 'c': 1} 1 1\n"
     ]
    }
   ],
   "source": [
    "ex_a = count_chars('bababc')\n",
    "ex_a_2 = count_occurences(ex_a, 2)\n",
    "ex_a_3 = count_occurences(ex_a, 3)\n",
    "print(ex_a,ex_a_2, ex_a_3)"
   ]
  },
  {
   "cell_type": "code",
   "execution_count": 26,
   "metadata": {},
   "outputs": [],
   "source": [
    "def partA(lines):\n",
    "    count_duplicates = 0\n",
    "    count_triplicates = 0\n",
    "    for line in lines:\n",
    "        count_line = count_chars(line)\n",
    "        count_2 = count_occurences(count_line, 2)\n",
    "        count_3 = count_occurences(count_line, 3)\n",
    "        count_duplicates += count_2 > 0\n",
    "        count_triplicates += count_3 > 0\n",
    "    return count_duplicates * count_triplicates"
   ]
  },
  {
   "cell_type": "code",
   "execution_count": 27,
   "metadata": {},
   "outputs": [
    {
     "data": {
      "text/plain": [
       "12"
      ]
     },
     "execution_count": 27,
     "metadata": {},
     "output_type": "execute_result"
    }
   ],
   "source": [
    "lines_ex_a = ['abcdef', 'bababc', 'abbcde', 'abcccd', 'aabcdd', 'abcdee', 'ababab']\n",
    "partA(lines_ex_a)"
   ]
  },
  {
   "cell_type": "code",
   "execution_count": 28,
   "metadata": {},
   "outputs": [
    {
     "name": "stdout",
     "output_type": "stream",
     "text": [
      "5880\n"
     ]
    }
   ],
   "source": [
    "print(partA(lines))"
   ]
  },
  {
   "cell_type": "markdown",
   "metadata": {},
   "source": [
    "### Part B"
   ]
  },
  {
   "cell_type": "code",
   "execution_count": 30,
   "metadata": {},
   "outputs": [],
   "source": [
    "import itertools"
   ]
  },
  {
   "cell_type": "code",
   "execution_count": 39,
   "metadata": {},
   "outputs": [],
   "source": [
    "def single_char_diff_strings(lines):\n",
    "    for pair in itertools.combinations(lines, 2):\n",
    "        str1, str2 = pair\n",
    "        diff_count = 0\n",
    "        for i in range(len(str1)):\n",
    "            if str1[i] != str2[i]:\n",
    "                diff_count += 1\n",
    "            if diff_count > 1:\n",
    "                break\n",
    "        if diff_count == 1:\n",
    "            return pair"
   ]
  },
  {
   "cell_type": "code",
   "execution_count": 42,
   "metadata": {},
   "outputs": [],
   "source": [
    "def common_substring(pair):\n",
    "    str1, str2 = pair\n",
    "    common_str = ''\n",
    "    for i in range(len(str1)):\n",
    "        if str1[i] != str2[i]:\n",
    "            break\n",
    "        common_str += str1[i]\n",
    "    common_str += str1[i+1:]\n",
    "    return common_str"
   ]
  },
  {
   "cell_type": "code",
   "execution_count": 40,
   "metadata": {},
   "outputs": [
    {
     "name": "stdout",
     "output_type": "stream",
     "text": [
      "('fghij', 'fguij')\n"
     ]
    }
   ],
   "source": [
    "ex_b = ['abcde', 'fghij', 'klmno', 'pqrst', 'fguij', 'axcye', 'wvxyz']\n",
    "print(single_char_diff_strings(ex_b))"
   ]
  },
  {
   "cell_type": "code",
   "execution_count": 43,
   "metadata": {},
   "outputs": [
    {
     "name": "stdout",
     "output_type": "stream",
     "text": [
      "fgij\n"
     ]
    }
   ],
   "source": [
    "pair_ex_b = ('fghij', 'fguij')\n",
    "print(common_substring(pair_ex_b))"
   ]
  },
  {
   "cell_type": "code",
   "execution_count": 41,
   "metadata": {},
   "outputs": [
    {
     "name": "stdout",
     "output_type": "stream",
     "text": [
      "('tiwcdpbseqhxryfmegkvjujvza', 'tiwcdpbseqhxryfmlgkvjujvza')\n"
     ]
    }
   ],
   "source": [
    "partB_pair = single_char_diff_strings(lines)\n",
    "print(partB_pair)"
   ]
  },
  {
   "cell_type": "code",
   "execution_count": 44,
   "metadata": {},
   "outputs": [
    {
     "name": "stdout",
     "output_type": "stream",
     "text": [
      "tiwcdpbseqhxryfmgkvjujvza\n"
     ]
    }
   ],
   "source": [
    "print(common_substring(partB_pair))"
   ]
  },
  {
   "cell_type": "markdown",
   "metadata": {},
   "source": [
    "## Day 3"
   ]
  },
  {
   "cell_type": "markdown",
   "metadata": {},
   "source": [
    "### Part A"
   ]
  },
  {
   "cell_type": "code",
   "execution_count": 3,
   "metadata": {},
   "outputs": [
    {
     "name": "stdout",
     "output_type": "stream",
     "text": [
      "1295 ['#1 @ 829,837: 11x22', '#2 @ 14,171: 10x16', '#3 @ 456,661: 13x19', '#4 @ 520,395: 13x12', '#5 @ 877,374: 24x10']\n"
     ]
    }
   ],
   "source": [
    "with open('day3.txt', 'r') as f:\n",
    "    lines = f.readlines()\n",
    "    lines = [l.strip() for l in lines]\n",
    "    print(len(lines), lines[:5])"
   ]
  },
  {
   "cell_type": "code",
   "execution_count": 6,
   "metadata": {},
   "outputs": [],
   "source": [
    "ex_a = ['#1 @ 1,3: 4x4',\n",
    "        '#2 @ 3,1: 4x4', \n",
    "        '#3 @ 5,5: 2x2']"
   ]
  },
  {
   "cell_type": "code",
   "execution_count": 4,
   "metadata": {},
   "outputs": [],
   "source": [
    "def parse_row(line):\n",
    "    #1 @ 1,3: 4x4\n",
    "    identity = int(line.split('@')[0].strip('# '))\n",
    "    row = int(line.split(',')[0].split()[-1])\n",
    "    column = int(line.split(':')[0].split(',')[-1])\n",
    "    row_span = int(line.split('x')[0].split()[-1])\n",
    "    col_span = int(line.split('x')[-1])\n",
    "    return {'id':identity, 'row':row, 'col':column, 'row_span':row_span, 'col_span':col_span}"
   ]
  },
  {
   "cell_type": "code",
   "execution_count": 8,
   "metadata": {},
   "outputs": [
    {
     "name": "stdout",
     "output_type": "stream",
     "text": [
      "{'id': 1, 'row': 1, 'col': 3, 'row_span': 4, 'col_span': 4}\n",
      "{'id': 2, 'row': 3, 'col': 1, 'row_span': 4, 'col_span': 4}\n",
      "{'id': 3, 'row': 5, 'col': 5, 'row_span': 2, 'col_span': 2}\n"
     ]
    }
   ],
   "source": [
    "for i in ex_a:\n",
    "    print(parse_row(i))"
   ]
  },
  {
   "cell_type": "code",
   "execution_count": 18,
   "metadata": {},
   "outputs": [
    {
     "name": "stdout",
     "output_type": "stream",
     "text": [
      "10 [[0, 0, 0, 0, 0, 0, 0, 0, 0, 0], [0, 0, 0, 0, 0, 0, 0, 0, 0, 0], [0, 0, 0, 0, 0, 0, 0, 0, 0, 0], [0, 0, 0, 0, 0, 0, 0, 0, 0, 0], [0, 0, 0, 0, 0, 0, 0, 0, 0, 0], [0, 0, 0, 0, 0, 0, 0, 0, 0, 0], [0, 0, 0, 0, 0, 0, 0, 0, 0, 0], [0, 0, 0, 0, 0, 0, 0, 0, 0, 0], [0, 0, 0, 0, 0, 0, 0, 0, 0, 0], [0, 0, 0, 0, 0, 0, 0, 0, 0, 0]]\n"
     ]
    }
   ],
   "source": [
    "a = [[0 for col in range(10)] for row in range(10)]\n",
    "print(len(a), a)"
   ]
  },
  {
   "cell_type": "code",
   "execution_count": 15,
   "metadata": {},
   "outputs": [],
   "source": [
    "def find_overlap(lines, square_len):\n",
    "    area = [[0 for col in range(square_len)] for row in range(square_len)]\n",
    "    for line in lines:\n",
    "        shape_line = parse_row(line)\n",
    "        row = shape_line['row']\n",
    "        col = shape_line['col']\n",
    "        row_span = shape_line['row_span']\n",
    "        col_span = shape_line['col_span']\n",
    "        for r in range(row, row+row_span):\n",
    "            for c in range(col, col+col_span):\n",
    "                area[r][c] += 1\n",
    "#     print(area)\n",
    "    count_overlaps = 0\n",
    "    for r in range(0, square_len):\n",
    "        for c in range(0, square_len):\n",
    "            if area[r][c] > 1:\n",
    "                count_overlaps += 1\n",
    "    return count_overlaps\n",
    "            \n",
    "        "
   ]
  },
  {
   "cell_type": "code",
   "execution_count": 14,
   "metadata": {},
   "outputs": [
    {
     "name": "stdout",
     "output_type": "stream",
     "text": [
      "[[0, 0, 0, 0, 0, 0, 0, 0], [0, 0, 0, 1, 1, 1, 1, 0], [0, 0, 0, 1, 1, 1, 1, 0], [0, 1, 1, 2, 2, 1, 1, 0], [0, 1, 1, 2, 2, 1, 1, 0], [0, 1, 1, 1, 1, 1, 1, 0], [0, 1, 1, 1, 1, 1, 1, 0], [0, 0, 0, 0, 0, 0, 0, 0]]\n"
     ]
    },
    {
     "data": {
      "text/plain": [
       "4"
      ]
     },
     "execution_count": 14,
     "metadata": {},
     "output_type": "execute_result"
    }
   ],
   "source": [
    "find_overlap(ex_a, 8)"
   ]
  },
  {
   "cell_type": "code",
   "execution_count": 16,
   "metadata": {},
   "outputs": [
    {
     "data": {
      "text/plain": [
       "104126"
      ]
     },
     "execution_count": 16,
     "metadata": {},
     "output_type": "execute_result"
    }
   ],
   "source": [
    "find_overlap(lines, 1000)"
   ]
  },
  {
   "cell_type": "markdown",
   "metadata": {},
   "source": [
    "### Part B"
   ]
  },
  {
   "cell_type": "code",
   "execution_count": 38,
   "metadata": {},
   "outputs": [],
   "source": [
    "def find_overlap_b(lines, square_len):\n",
    "    area = [[0 for col in range(square_len)] for row in range(square_len)]\n",
    "    area_id = area[:]\n",
    "    for line in lines:\n",
    "        shape_line = parse_row(line)\n",
    "        row = shape_line['row']\n",
    "        col = shape_line['col']\n",
    "        row_span = shape_line['row_span']\n",
    "        col_span = shape_line['col_span']\n",
    "        ind = shape_line['id']\n",
    "        for r in range(row, row+row_span):\n",
    "            for c in range(col, col+col_span):\n",
    "#                 area[r][c] += 1\n",
    "                try: \n",
    "                    area_id[r][c].append(ind)\n",
    "                except AttributeError:\n",
    "                    area_id[r][c] = [ind]\n",
    "    print(area_id)\n",
    "    for r in range(0, square_len):\n",
    "        for c in range(0, square_len):\n",
    "            if len(area_id[r][c]) == 1:\n",
    "                return(area_id[r][c])\n",
    "    "
   ]
  },
  {
   "cell_type": "code",
   "execution_count": 39,
   "metadata": {},
   "outputs": [
    {
     "name": "stdout",
     "output_type": "stream",
     "text": [
      "[[0, 0, 0, 0, 0, 0, 0, 0], [0, 0, 0, [1], [1], [1], [1], 0], [0, 0, 0, [1], [1], [1], [1], 0], [0, [2], [2], [1, 2], [1, 2], [1], [1], 0], [0, [2], [2], [1, 2], [1, 2], [1], [1], 0], [0, [2], [2], [2], [2], [3], [3], 0], [0, [2], [2], [2], [2], [3], [3], 0], [0, 0, 0, 0, 0, 0, 0, 0]]\n"
     ]
    },
    {
     "ename": "TypeError",
     "evalue": "object of type 'int' has no len()",
     "output_type": "error",
     "traceback": [
      "\u001b[0;31m---------------------------------------------------------------------------\u001b[0m",
      "\u001b[0;31mTypeError\u001b[0m                                 Traceback (most recent call last)",
      "\u001b[0;32m<ipython-input-39-2361449ff6fa>\u001b[0m in \u001b[0;36m<module>\u001b[0;34m\u001b[0m\n\u001b[0;32m----> 1\u001b[0;31m \u001b[0mfind_overlap_b\u001b[0m\u001b[0;34m(\u001b[0m\u001b[0mex_a\u001b[0m\u001b[0;34m,\u001b[0m \u001b[0;36m8\u001b[0m\u001b[0;34m)\u001b[0m\u001b[0;34m\u001b[0m\u001b[0m\n\u001b[0m",
      "\u001b[0;32m<ipython-input-38-a8de334b1f46>\u001b[0m in \u001b[0;36mfind_overlap_b\u001b[0;34m(lines, square_len)\u001b[0m\n\u001b[1;32m     19\u001b[0m     \u001b[0;32mfor\u001b[0m \u001b[0mr\u001b[0m \u001b[0;32min\u001b[0m \u001b[0mrange\u001b[0m\u001b[0;34m(\u001b[0m\u001b[0;36m0\u001b[0m\u001b[0;34m,\u001b[0m \u001b[0msquare_len\u001b[0m\u001b[0;34m)\u001b[0m\u001b[0;34m:\u001b[0m\u001b[0;34m\u001b[0m\u001b[0m\n\u001b[1;32m     20\u001b[0m         \u001b[0;32mfor\u001b[0m \u001b[0mc\u001b[0m \u001b[0;32min\u001b[0m \u001b[0mrange\u001b[0m\u001b[0;34m(\u001b[0m\u001b[0;36m0\u001b[0m\u001b[0;34m,\u001b[0m \u001b[0msquare_len\u001b[0m\u001b[0;34m)\u001b[0m\u001b[0;34m:\u001b[0m\u001b[0;34m\u001b[0m\u001b[0m\n\u001b[0;32m---> 21\u001b[0;31m             \u001b[0;32mif\u001b[0m \u001b[0mlen\u001b[0m\u001b[0;34m(\u001b[0m\u001b[0marea_id\u001b[0m\u001b[0;34m[\u001b[0m\u001b[0mr\u001b[0m\u001b[0;34m]\u001b[0m\u001b[0;34m[\u001b[0m\u001b[0mc\u001b[0m\u001b[0;34m]\u001b[0m\u001b[0;34m)\u001b[0m \u001b[0;34m==\u001b[0m \u001b[0;36m1\u001b[0m\u001b[0;34m:\u001b[0m\u001b[0;34m\u001b[0m\u001b[0m\n\u001b[0m\u001b[1;32m     22\u001b[0m                 \u001b[0;32mreturn\u001b[0m\u001b[0;34m(\u001b[0m\u001b[0marea_id\u001b[0m\u001b[0;34m[\u001b[0m\u001b[0mr\u001b[0m\u001b[0;34m]\u001b[0m\u001b[0;34m[\u001b[0m\u001b[0mc\u001b[0m\u001b[0;34m]\u001b[0m\u001b[0;34m)\u001b[0m\u001b[0;34m\u001b[0m\u001b[0m\n\u001b[1;32m     23\u001b[0m \u001b[0;34m\u001b[0m\u001b[0m\n",
      "\u001b[0;31mTypeError\u001b[0m: object of type 'int' has no len()"
     ]
    }
   ],
   "source": [
    "find_overlap_b(ex_a, 8)"
   ]
  },
  {
   "cell_type": "code",
   "execution_count": 32,
   "metadata": {},
   "outputs": [
    {
     "name": "stdout",
     "output_type": "stream",
     "text": [
      "10 [[[0], [0], [0], [0], [0], [0], [0], [0], [0], [0]], [[0], [0], [0], [0], [0], [0], [0], [0], [0], [0]], [[0], [0], [0], [0], [0], [0], [0], [0], [0], [0]], [[0], [0], [0], [0], [0], [0], [0], [0], [0], [0]], [[0], [0], [0], [0], [0], [0], [0], [0], [0], [0]], [[0], [0], [0], [0], [0], [0], [0], [0], [0], [0]], [[0], [0], [0], [0], [0], [0], [0], [0], [0], [0]], [[0], [0], [0], [0], [0], [0], [0], [0], [0], [0]], [[0], [0], [0], [0], [0], [0], [0], [0], [0], [0]], [[0], [0], [0], [0], [0], [0], [0], [0], [0], [0]]]\n"
     ]
    }
   ],
   "source": [
    "b = [[0 for col in range(10)] for row in range(10)]\n",
    "for row in range(10):\n",
    "    for col in range(10):\n",
    "      b[row][col] = [0]  \n",
    "print(len(b),b)"
   ]
  },
  {
   "cell_type": "code",
   "execution_count": 33,
   "metadata": {},
   "outputs": [
    {
     "ename": "AttributeError",
     "evalue": "'int' object has no attribute 'append'",
     "output_type": "error",
     "traceback": [
      "\u001b[0;31m---------------------------------------------------------------------------\u001b[0m",
      "\u001b[0;31mAttributeError\u001b[0m                            Traceback (most recent call last)",
      "\u001b[0;32m<ipython-input-33-c2e425ab06bf>\u001b[0m in \u001b[0;36m<module>\u001b[0;34m\u001b[0m\n\u001b[1;32m      1\u001b[0m \u001b[0mc\u001b[0m \u001b[0;34m=\u001b[0m \u001b[0;34m[\u001b[0m\u001b[0;34m[\u001b[0m\u001b[0;36m0\u001b[0m \u001b[0;32mfor\u001b[0m \u001b[0mcol\u001b[0m \u001b[0;32min\u001b[0m \u001b[0mrange\u001b[0m\u001b[0;34m(\u001b[0m\u001b[0;36m10\u001b[0m\u001b[0;34m)\u001b[0m\u001b[0;34m]\u001b[0m \u001b[0;32mfor\u001b[0m \u001b[0mrow\u001b[0m \u001b[0;32min\u001b[0m \u001b[0mrange\u001b[0m\u001b[0;34m(\u001b[0m\u001b[0;36m10\u001b[0m\u001b[0;34m)\u001b[0m\u001b[0;34m]\u001b[0m\u001b[0;34m\u001b[0m\u001b[0m\n\u001b[0;32m----> 2\u001b[0;31m \u001b[0mc\u001b[0m\u001b[0;34m[\u001b[0m\u001b[0;36m0\u001b[0m\u001b[0;34m]\u001b[0m\u001b[0;34m[\u001b[0m\u001b[0;36m1\u001b[0m\u001b[0;34m]\u001b[0m\u001b[0;34m.\u001b[0m\u001b[0mappend\u001b[0m\u001b[0;34m(\u001b[0m\u001b[0;36m5\u001b[0m\u001b[0;34m)\u001b[0m\u001b[0;34m\u001b[0m\u001b[0m\n\u001b[0m",
      "\u001b[0;31mAttributeError\u001b[0m: 'int' object has no attribute 'append'"
     ]
    }
   ],
   "source": [
    "c = [[0 for col in range(10)] for row in range(10)]\n",
    "c[0][1].append(5)"
   ]
  },
  {
   "cell_type": "code",
   "execution_count": 42,
   "metadata": {},
   "outputs": [
    {
     "name": "stdout",
     "output_type": "stream",
     "text": [
      "#695\n",
      "104126\n"
     ]
    }
   ],
   "source": [
    "from collections import defaultdict\n",
    "\n",
    " #1373 @ 130,274: 15x26\n",
    "C = defaultdict(int)\n",
    "for line in open('day3.txt'):\n",
    " words = line.split()\n",
    " x,y = words[2].split(',')\n",
    " x,y = int(x), int(y[:-1])\n",
    " w,h = words[3].split('x')\n",
    " w,h = int(w), int(h)\n",
    " for dx in range(w):\n",
    "    for dy in range(h):\n",
    "         C[(x+dx, y+dy)] += 1\n",
    "for line in open('day3.txt'):\n",
    " words = line.split()\n",
    " x,y = words[2].split(',')\n",
    " x,y = int(x), int(y[:-1])\n",
    " w,h = words[3].split('x')\n",
    " w,h = int(w), int(h)\n",
    " ok = True\n",
    " for dx in range(w):\n",
    "    for dy in range(h):\n",
    "         if C[(x+dx, y+dy)] > 1:\n",
    "             ok = False\n",
    " if ok:\n",
    "     print(words[0])\n",
    "\n",
    "ans = 0\n",
    "for (r,c),v in C.items():\n",
    " if v >= 2:\n",
    "     ans += 1\n",
    "print(ans)"
   ]
  },
  {
   "cell_type": "markdown",
   "metadata": {},
   "source": [
    "## Day 4"
   ]
  },
  {
   "cell_type": "code",
   "execution_count": 9,
   "metadata": {},
   "outputs": [
    {
     "name": "stdout",
     "output_type": "stream",
     "text": [
      "Part 1, 2: (102688, 56901)\n"
     ]
    }
   ],
   "source": [
    "# from utils.decorators import time_it\n",
    "from collections import defaultdict, Counter\n",
    "\n",
    "with open('day4.txt') as f:\n",
    "    puzzle_input = f.readlines()\n",
    "\n",
    "\n",
    "# @time_it\n",
    "def part1(n):\n",
    "    guards = defaultdict(list)\n",
    "    times = defaultdict(int)\n",
    "    for line in sorted(n):\n",
    "        time, event = line.split('] ')\n",
    "        minute = int(time[-2:])\n",
    "\n",
    "        if 'Guard' in event:\n",
    "            id = int(event.split('#')[1].split(' ')[0])\n",
    "        elif 'falls' in event:\n",
    "            start = minute\n",
    "        elif 'wakes' in event:\n",
    "            end = minute\n",
    "            for x in range(start, end):\n",
    "                guards[id].append(x)\n",
    "            times[id] += end - start\n",
    "\n",
    "    guard, time = max(times.items(), key=lambda i: i[1])\n",
    "    minute, count = Counter(guards[guard]).most_common(1)[0]\n",
    "\n",
    "    count_max = -1\n",
    "    guard2 = -1\n",
    "    for g in guards:\n",
    "        minute2, count = Counter(guards[g]).most_common(1)[0]\n",
    "        if count > count_max:\n",
    "            count_max = count\n",
    "            minute_max = minute2\n",
    "            guard2 = g\n",
    "\n",
    "    return guard * minute, guard2 * minute_max\n",
    "\n",
    "\n",
    "# @time_it\n",
    "def part2(guards, times):\n",
    "    pass\n",
    "\n",
    "\n",
    "test_one = [\n",
    "    '[1518-11-01 00:00] Guard #10 begins shift',\n",
    "    '[1518-11-01 00:05] falls asleep',\n",
    "    '[1518-11-01 00:25] wakes up',\n",
    "    '[1518-11-01 00:30] falls asleep',\n",
    "    '[1518-11-01 00:55] wakes up',\n",
    "    '[1518-11-01 23:58] Guard #99 begins shift',\n",
    "    '[1518-11-02 00:40] falls asleep',\n",
    "    '[1518-11-02 00:50] wakes up',\n",
    "    '[1518-11-03 00:05] Guard #10 begins shift',\n",
    "    '[1518-11-03 00:24] falls asleep',\n",
    "    '[1518-11-03 00:29] wakes up',\n",
    "    '[1518-11-04 00:02] Guard #99 begins shift',\n",
    "    '[1518-11-04 00:36] falls asleep',\n",
    "    '[1518-11-04 00:46] wakes up',\n",
    "    '[1518-11-05 00:03] Guard #99 begins shift',\n",
    "    '[1518-11-05 00:45] falls asleep',\n",
    "    '[1518-11-05 00:55] wakes up'\n",
    "]\n",
    "p1, p2 = part1(test_one)\n",
    "assert p1 == 240\n",
    "assert p2 == 4455\n",
    "\n",
    "print(f'Part 1, 2: {part1(puzzle_input)}')"
   ]
  },
  {
   "cell_type": "markdown",
   "metadata": {},
   "source": [
    "## Day 5"
   ]
  },
  {
   "cell_type": "markdown",
   "metadata": {},
   "source": [
    "### Part A"
   ]
  },
  {
   "cell_type": "code",
   "execution_count": 1,
   "metadata": {},
   "outputs": [
    {
     "name": "stdout",
     "output_type": "stream",
     "text": [
      "1\n"
     ]
    }
   ],
   "source": [
    "with open('day5.txt') as f:\n",
    "    input_polymer = f.readlines()\n",
    "    print(len(input_polymer))"
   ]
  },
  {
   "cell_type": "code",
   "execution_count": 3,
   "metadata": {},
   "outputs": [],
   "source": [
    "input_polymer = input_polymer[0]"
   ]
  },
  {
   "cell_type": "code",
   "execution_count": 36,
   "metadata": {},
   "outputs": [],
   "source": [
    "def eliminate_opposites(string):\n",
    "    elim_string = ''\n",
    "    for i in range(len(string)):\n",
    "        try:\n",
    "            if string[i] != string[i+1]:\n",
    "                if string[i].lower() == string[i+1].lower():\n",
    "                    elim_string += string[i+2:]\n",
    "                    break\n",
    "            elim_string += string[i]\n",
    "        except IndexError:\n",
    "            elim_string += string[i]\n",
    "    return elim_string"
   ]
  },
  {
   "cell_type": "code",
   "execution_count": 43,
   "metadata": {},
   "outputs": [],
   "source": [
    "def repeat_elimination(string):\n",
    "    new_string = eliminate_opposites(string)   \n",
    "#     print(new_string, string)\n",
    "    while new_string != string:\n",
    "        string = new_string\n",
    "        new_string = eliminate_opposites(string)\n",
    "#         print(new_string, string)\n",
    "    return new_string"
   ]
  },
  {
   "cell_type": "code",
   "execution_count": 8,
   "metadata": {},
   "outputs": [],
   "source": [
    "ex_A = 'dabAcCaCBAcCcaDA'"
   ]
  },
  {
   "cell_type": "code",
   "execution_count": 44,
   "metadata": {},
   "outputs": [
    {
     "name": "stdout",
     "output_type": "stream",
     "text": [
      "dabAaCBAcCcaDA\n",
      "dabCBAcaDA\n"
     ]
    }
   ],
   "source": [
    "# for i in range(10):\n",
    "print(eliminate_opposites(ex_A))\n",
    "print(repeat_elimination(ex_A))"
   ]
  },
  {
   "cell_type": "code",
   "execution_count": 39,
   "metadata": {},
   "outputs": [
    {
     "name": "stdout",
     "output_type": "stream",
     "text": [
      "dabCBAcaDA\n"
     ]
    }
   ],
   "source": [
    "print(repeat_elimination(ex_A))"
   ]
  },
  {
   "cell_type": "code",
   "execution_count": 41,
   "metadata": {},
   "outputs": [
    {
     "data": {
      "text/plain": [
       "50000"
      ]
     },
     "execution_count": 41,
     "metadata": {},
     "output_type": "execute_result"
    }
   ],
   "source": [
    "len(input_polymer)"
   ]
  },
  {
   "cell_type": "code",
   "execution_count": 45,
   "metadata": {},
   "outputs": [
    {
     "data": {
      "text/plain": [
       "'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'"
      ]
     },
     "execution_count": 45,
     "metadata": {},
     "output_type": "execute_result"
    }
   ],
   "source": [
    "repeat_elimination(input_polymer)"
   ]
  },
  {
   "cell_type": "code",
   "execution_count": 42,
   "metadata": {},
   "outputs": [
    {
     "data": {
      "text/plain": [
       "11252"
      ]
     },
     "execution_count": 42,
     "metadata": {},
     "output_type": "execute_result"
    }
   ],
   "source": [
    "partA = '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'\n",
    "len(partA)"
   ]
  },
  {
   "cell_type": "markdown",
   "metadata": {},
   "source": [
    "### Part B"
   ]
  },
  {
   "cell_type": "code",
   "execution_count": 48,
   "metadata": {},
   "outputs": [],
   "source": [
    "import string\n",
    "all_chars = string.ascii_lowercase\n"
   ]
  },
  {
   "cell_type": "code",
   "execution_count": 49,
   "metadata": {},
   "outputs": [
    {
     "data": {
      "text/plain": [
       "'A'"
      ]
     },
     "execution_count": 49,
     "metadata": {},
     "output_type": "execute_result"
    }
   ],
   "source": [
    "'a'.upper()"
   ]
  },
  {
   "cell_type": "code",
   "execution_count": 50,
   "metadata": {},
   "outputs": [],
   "source": [
    "def replace_char(string, char):\n",
    "    replaced_string = string.replace(char,'').replace(char.upper(),'')\n",
    "    return replaced_string"
   ]
  },
  {
   "cell_type": "code",
   "execution_count": 51,
   "metadata": {},
   "outputs": [],
   "source": [
    "def find_all_mappings(string, char):\n",
    "    char_len_map = {}\n",
    "    for char in all_chars:\n",
    "        replaced_string = replace_char(string, char)\n",
    "        reduction = repeat_elimination(replaced_string)\n",
    "        char_len_map[char] = len(reduction)\n",
    "    return char_len_map"
   ]
  },
  {
   "cell_type": "code",
   "execution_count": 52,
   "metadata": {},
   "outputs": [],
   "source": [
    "char_len_ex = find_all_mappings(ex_A, all_chars)"
   ]
  },
  {
   "cell_type": "code",
   "execution_count": 53,
   "metadata": {},
   "outputs": [
    {
     "name": "stdout",
     "output_type": "stream",
     "text": [
      "{'a': 6, 'b': 8, 'c': 4, 'd': 6, 'e': 10, 'f': 10, 'g': 10, 'h': 10, 'i': 10, 'j': 10, 'k': 10, 'l': 10, 'm': 10, 'n': 10, 'o': 10, 'p': 10, 'q': 10, 'r': 10, 's': 10, 't': 10, 'u': 10, 'v': 10, 'w': 10, 'x': 10, 'y': 10, 'z': 10} 4\n"
     ]
    }
   ],
   "source": [
    "print(char_len_ex, min(char_len_ex.values()))"
   ]
  },
  {
   "cell_type": "code",
   "execution_count": 54,
   "metadata": {},
   "outputs": [
    {
     "name": "stdout",
     "output_type": "stream",
     "text": [
      "{'a': 10756, 'b': 10838, 'c': 10810, 'd': 10772, 'e': 10848, 'f': 10810, 'g': 10828, 'h': 10804, 'i': 10800, 'j': 10780, 'k': 10790, 'l': 10816, 'm': 10828, 'n': 6118, 'o': 10818, 'p': 10764, 'q': 10854, 'r': 10768, 's': 10788, 't': 10764, 'u': 10798, 'v': 10806, 'w': 10818, 'x': 10828, 'y': 10774, 'z': 10838} 6118\n"
     ]
    }
   ],
   "source": [
    "char_len_ex = find_all_mappings(input_polymer, all_chars)\n",
    "print(char_len_ex, min(char_len_ex.values()))"
   ]
  },
  {
   "cell_type": "code",
   "execution_count": 46,
   "metadata": {},
   "outputs": [
    {
     "name": "stdout",
     "output_type": "stream",
     "text": [
      "11252\n",
      "6118\n"
     ]
    }
   ],
   "source": [
    "# import sys\n",
    "\n",
    "# line = input_polymer\n",
    "\n",
    "# def are_opp(a, b):\n",
    "#     return (a.lower() == b.lower() and\n",
    "#             ((a.isupper() and b.islower()) or\n",
    "#              (a.islower() and b.isupper())))\n",
    "\n",
    "\n",
    "# def react(line):\n",
    "#     buf = []\n",
    "#     for c in line:\n",
    "#         if buf and are_opp(c, buf[-1]):\n",
    "#             buf.pop()\n",
    "#         else:\n",
    "#             buf.append(c)\n",
    "#     return len(buf)\n",
    "\n",
    "\n",
    "# agents = set([c.lower() for c in line])\n",
    "\n",
    "# # part 1\n",
    "# print(react(line))\n",
    "\n",
    "# # part 2\n",
    "# print(min([react(line.replace(a, '').replace(a.upper(), ''))\n",
    "#            for a in agents]))"
   ]
  }
 ],
 "metadata": {
  "kernelspec": {
   "display_name": "Python 3",
   "language": "python",
   "name": "python3"
  },
  "language_info": {
   "codemirror_mode": {
    "name": "ipython",
    "version": 3
   },
   "file_extension": ".py",
   "mimetype": "text/x-python",
   "name": "python",
   "nbconvert_exporter": "python",
   "pygments_lexer": "ipython3",
   "version": "3.6.5"
  }
 },
 "nbformat": 4,
 "nbformat_minor": 2
}
