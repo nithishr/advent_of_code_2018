{
 "cells": [
  {
   "cell_type": "markdown",
   "metadata": {},
   "source": [
    "# Advent of Code 2018 \n",
    "https://adventofcode.com/2018/"
   ]
  },
  {
   "cell_type": "markdown",
   "metadata": {},
   "source": [
    "## Day 1"
   ]
  },
  {
   "cell_type": "code",
   "execution_count": 1,
   "metadata": {},
   "outputs": [
    {
     "data": {
      "text/plain": [
       "1023"
      ]
     },
     "execution_count": 1,
     "metadata": {},
     "output_type": "execute_result"
    }
   ],
   "source": [
    "with open('day1.txt', 'r') as f:\n",
    "    l = f.readlines()\n",
    "len(l)"
   ]
  },
  {
   "cell_type": "code",
   "execution_count": 2,
   "metadata": {},
   "outputs": [
    {
     "data": {
      "text/plain": [
       "['+9\\n', '+1\\n', '-11\\n', '+12\\n', '+17\\n']"
      ]
     },
     "execution_count": 2,
     "metadata": {},
     "output_type": "execute_result"
    }
   ],
   "source": [
    "l[0:5]"
   ]
  },
  {
   "cell_type": "markdown",
   "metadata": {},
   "source": [
    "### Part A"
   ]
  },
  {
   "cell_type": "code",
   "execution_count": 3,
   "metadata": {},
   "outputs": [
    {
     "name": "stdout",
     "output_type": "stream",
     "text": [
      "590\n"
     ]
    }
   ],
   "source": [
    "frequency = 0\n",
    "for i in l:\n",
    "    frequency += int(i.strip())\n",
    "print(frequency)"
   ]
  },
  {
   "cell_type": "markdown",
   "metadata": {},
   "source": [
    "### Part B"
   ]
  },
  {
   "cell_type": "code",
   "execution_count": 4,
   "metadata": {},
   "outputs": [
    {
     "name": "stdout",
     "output_type": "stream",
     "text": [
      "1023 [9, 1, -11, 12, 17]\n"
     ]
    }
   ],
   "source": [
    "l_int = [int(i.strip()) for i in l]\n",
    "print(len(l_int), l_int[:5])"
   ]
  },
  {
   "cell_type": "code",
   "execution_count": 5,
   "metadata": {},
   "outputs": [],
   "source": [
    "def calculate_repeat(list_int):\n",
    "    frequency_list = [0]\n",
    "    cur_f = list_int[0]\n",
    "    count = 1\n",
    "    max_count = len(list_int) - 1\n",
    "    while cur_f not in frequency_list:\n",
    "        frequency_list.append(cur_f)\n",
    "        cur_f += list_int[count] \n",
    "        count += 1\n",
    "        if count > max_count:\n",
    "            count = 0\n",
    "    return cur_f\n"
   ]
  },
  {
   "cell_type": "code",
   "execution_count": 6,
   "metadata": {},
   "outputs": [
    {
     "name": "stdout",
     "output_type": "stream",
     "text": [
      "0\n",
      "10\n",
      "5\n",
      "14\n"
     ]
    }
   ],
   "source": [
    "print(calculate_repeat([+1, -1]))\n",
    "print(calculate_repeat([+3, +3, +4, -2, -4]))\n",
    "print(calculate_repeat([-6, +3, +8, +5, -6]))\n",
    "print(calculate_repeat([+7, +7, -2, -7, -4]))"
   ]
  },
  {
   "cell_type": "code",
   "execution_count": 7,
   "metadata": {},
   "outputs": [
    {
     "name": "stdout",
     "output_type": "stream",
     "text": [
      "83445\n"
     ]
    }
   ],
   "source": [
    "print(calculate_repeat(l_int))"
   ]
  },
  {
   "cell_type": "markdown",
   "metadata": {},
   "source": [
    "## Day 2"
   ]
  },
  {
   "cell_type": "code",
   "execution_count": 3,
   "metadata": {},
   "outputs": [
    {
     "name": "stdout",
     "output_type": "stream",
     "text": [
      "250 ['oiwcdpbseqgxryfmlpktnupvza', 'oiwddpbsuqhxryfmlgkznujvza', 'ziwcdpbsechxrvfmlgktnujvza', 'oiwcgpbseqhxryfmmgktnhjvza', 'owwcdpbseqhxryfmlgktnqjvze']\n"
     ]
    }
   ],
   "source": [
    "with open('day2.txt', 'r') as f:\n",
    "    lines = f.readlines()\n",
    "    lines = [l.strip() for l in lines]\n",
    "    print(len(lines), lines[:5])"
   ]
  },
  {
   "cell_type": "code",
   "execution_count": 19,
   "metadata": {},
   "outputs": [],
   "source": [
    "def count_chars(string):\n",
    "    counts = {}\n",
    "    for char in string:\n",
    "        if char not in counts:\n",
    "            counts[char] = string.count(char)\n",
    "    return counts"
   ]
  },
  {
   "cell_type": "code",
   "execution_count": 6,
   "metadata": {},
   "outputs": [
    {
     "name": "stdout",
     "output_type": "stream",
     "text": [
      "{'a': 1, 'b': 1, 'c': 1, 'd': 1, 'e': 1, 'f': 1}\n",
      "{'b': 3, 'a': 2, 'c': 1}\n"
     ]
    }
   ],
   "source": [
    "print(count_chars('abcdef'))\n",
    "print(count_chars('bababc'))"
   ]
  },
  {
   "cell_type": "code",
   "execution_count": 20,
   "metadata": {},
   "outputs": [],
   "source": [
    "def count_occurences(counts, number):\n",
    "    return list(counts.values()).count(number)"
   ]
  },
  {
   "cell_type": "code",
   "execution_count": 13,
   "metadata": {},
   "outputs": [
    {
     "data": {
      "text/plain": [
       "1"
      ]
     },
     "execution_count": 13,
     "metadata": {},
     "output_type": "execute_result"
    }
   ],
   "source": [
    "counts = {'b': 3, 'a': 2, 'c': 1}\n",
    "list(counts.values()).count(1)"
   ]
  },
  {
   "cell_type": "code",
   "execution_count": 22,
   "metadata": {},
   "outputs": [
    {
     "name": "stdout",
     "output_type": "stream",
     "text": [
      "{'b': 3, 'a': 2, 'c': 1} 1 1\n"
     ]
    }
   ],
   "source": [
    "ex_a = count_chars('bababc')\n",
    "ex_a_2 = count_occurences(ex_a, 2)\n",
    "ex_a_3 = count_occurences(ex_a, 3)\n",
    "print(ex_a,ex_a_2, ex_a_3)"
   ]
  },
  {
   "cell_type": "code",
   "execution_count": 26,
   "metadata": {},
   "outputs": [],
   "source": [
    "def partA(lines):\n",
    "    count_duplicates = 0\n",
    "    count_triplicates = 0\n",
    "    for line in lines:\n",
    "        count_line = count_chars(line)\n",
    "        count_2 = count_occurences(count_line, 2)\n",
    "        count_3 = count_occurences(count_line, 3)\n",
    "        count_duplicates += count_2 > 0\n",
    "        count_triplicates += count_3 > 0\n",
    "    return count_duplicates * count_triplicates"
   ]
  },
  {
   "cell_type": "code",
   "execution_count": 27,
   "metadata": {},
   "outputs": [
    {
     "data": {
      "text/plain": [
       "12"
      ]
     },
     "execution_count": 27,
     "metadata": {},
     "output_type": "execute_result"
    }
   ],
   "source": [
    "lines_ex_a = ['abcdef', 'bababc', 'abbcde', 'abcccd', 'aabcdd', 'abcdee', 'ababab']\n",
    "partA(lines_ex_a)"
   ]
  },
  {
   "cell_type": "code",
   "execution_count": 28,
   "metadata": {},
   "outputs": [
    {
     "name": "stdout",
     "output_type": "stream",
     "text": [
      "5880\n"
     ]
    }
   ],
   "source": [
    "print(partA(lines))"
   ]
  },
  {
   "cell_type": "markdown",
   "metadata": {},
   "source": [
    "### Part B"
   ]
  },
  {
   "cell_type": "code",
   "execution_count": 30,
   "metadata": {},
   "outputs": [],
   "source": [
    "import itertools"
   ]
  },
  {
   "cell_type": "code",
   "execution_count": 39,
   "metadata": {},
   "outputs": [],
   "source": [
    "def single_char_diff_strings(lines):\n",
    "    for pair in itertools.combinations(lines, 2):\n",
    "        str1, str2 = pair\n",
    "        diff_count = 0\n",
    "        for i in range(len(str1)):\n",
    "            if str1[i] != str2[i]:\n",
    "                diff_count += 1\n",
    "            if diff_count > 1:\n",
    "                break\n",
    "        if diff_count == 1:\n",
    "            return pair"
   ]
  },
  {
   "cell_type": "code",
   "execution_count": 42,
   "metadata": {},
   "outputs": [],
   "source": [
    "def common_substring(pair):\n",
    "    str1, str2 = pair\n",
    "    common_str = ''\n",
    "    for i in range(len(str1)):\n",
    "        if str1[i] != str2[i]:\n",
    "            break\n",
    "        common_str += str1[i]\n",
    "    common_str += str1[i+1:]\n",
    "    return common_str"
   ]
  },
  {
   "cell_type": "code",
   "execution_count": 40,
   "metadata": {},
   "outputs": [
    {
     "name": "stdout",
     "output_type": "stream",
     "text": [
      "('fghij', 'fguij')\n"
     ]
    }
   ],
   "source": [
    "ex_b = ['abcde', 'fghij', 'klmno', 'pqrst', 'fguij', 'axcye', 'wvxyz']\n",
    "print(single_char_diff_strings(ex_b))"
   ]
  },
  {
   "cell_type": "code",
   "execution_count": 43,
   "metadata": {},
   "outputs": [
    {
     "name": "stdout",
     "output_type": "stream",
     "text": [
      "fgij\n"
     ]
    }
   ],
   "source": [
    "pair_ex_b = ('fghij', 'fguij')\n",
    "print(common_substring(pair_ex_b))"
   ]
  },
  {
   "cell_type": "code",
   "execution_count": 41,
   "metadata": {},
   "outputs": [
    {
     "name": "stdout",
     "output_type": "stream",
     "text": [
      "('tiwcdpbseqhxryfmegkvjujvza', 'tiwcdpbseqhxryfmlgkvjujvza')\n"
     ]
    }
   ],
   "source": [
    "partB_pair = single_char_diff_strings(lines)\n",
    "print(partB_pair)"
   ]
  },
  {
   "cell_type": "code",
   "execution_count": 44,
   "metadata": {},
   "outputs": [
    {
     "name": "stdout",
     "output_type": "stream",
     "text": [
      "tiwcdpbseqhxryfmgkvjujvza\n"
     ]
    }
   ],
   "source": [
    "print(common_substring(partB_pair))"
   ]
  }
 ],
 "metadata": {
  "kernelspec": {
   "display_name": "Python 3",
   "language": "python",
   "name": "python3"
  },
  "language_info": {
   "codemirror_mode": {
    "name": "ipython",
    "version": 3
   },
   "file_extension": ".py",
   "mimetype": "text/x-python",
   "name": "python",
   "nbconvert_exporter": "python",
   "pygments_lexer": "ipython3",
   "version": "3.6.5"
  }
 },
 "nbformat": 4,
 "nbformat_minor": 2
}
