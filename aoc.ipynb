{
 "cells": [
  {
   "cell_type": "markdown",
   "metadata": {},
   "source": [
    "# Advent of Code 2018 \n",
    "https://adventofcode.com/2018/"
   ]
  },
  {
   "cell_type": "markdown",
   "metadata": {},
   "source": [
    "## Day 1"
   ]
  },
  {
   "cell_type": "code",
   "execution_count": 1,
   "metadata": {},
   "outputs": [
    {
     "data": {
      "text/plain": [
       "1023"
      ]
     },
     "execution_count": 1,
     "metadata": {},
     "output_type": "execute_result"
    }
   ],
   "source": [
    "with open('day1.txt', 'r') as f:\n",
    "    l = f.readlines()\n",
    "len(l)"
   ]
  },
  {
   "cell_type": "code",
   "execution_count": 2,
   "metadata": {},
   "outputs": [
    {
     "data": {
      "text/plain": [
       "['+9\\n', '+1\\n', '-11\\n', '+12\\n', '+17\\n']"
      ]
     },
     "execution_count": 2,
     "metadata": {},
     "output_type": "execute_result"
    }
   ],
   "source": [
    "l[0:5]"
   ]
  },
  {
   "cell_type": "markdown",
   "metadata": {},
   "source": [
    "### Part A"
   ]
  },
  {
   "cell_type": "code",
   "execution_count": 3,
   "metadata": {},
   "outputs": [
    {
     "name": "stdout",
     "output_type": "stream",
     "text": [
      "590\n"
     ]
    }
   ],
   "source": [
    "frequency = 0\n",
    "for i in l:\n",
    "    frequency += int(i.strip())\n",
    "print(frequency)"
   ]
  },
  {
   "cell_type": "markdown",
   "metadata": {},
   "source": [
    "### Part B"
   ]
  },
  {
   "cell_type": "code",
   "execution_count": 4,
   "metadata": {},
   "outputs": [
    {
     "name": "stdout",
     "output_type": "stream",
     "text": [
      "1023 [9, 1, -11, 12, 17]\n"
     ]
    }
   ],
   "source": [
    "l_int = [int(i.strip()) for i in l]\n",
    "print(len(l_int), l_int[:5])"
   ]
  },
  {
   "cell_type": "code",
   "execution_count": 5,
   "metadata": {},
   "outputs": [],
   "source": [
    "def calculate_repeat(list_int):\n",
    "    frequency_list = [0]\n",
    "    cur_f = list_int[0]\n",
    "    count = 1\n",
    "    max_count = len(list_int) - 1\n",
    "    while cur_f not in frequency_list:\n",
    "        frequency_list.append(cur_f)\n",
    "        cur_f += list_int[count] \n",
    "        count += 1\n",
    "        if count > max_count:\n",
    "            count = 0\n",
    "    return cur_f\n"
   ]
  },
  {
   "cell_type": "code",
   "execution_count": 6,
   "metadata": {},
   "outputs": [
    {
     "name": "stdout",
     "output_type": "stream",
     "text": [
      "0\n",
      "10\n",
      "5\n",
      "14\n"
     ]
    }
   ],
   "source": [
    "print(calculate_repeat([+1, -1]))\n",
    "print(calculate_repeat([+3, +3, +4, -2, -4]))\n",
    "print(calculate_repeat([-6, +3, +8, +5, -6]))\n",
    "print(calculate_repeat([+7, +7, -2, -7, -4]))"
   ]
  },
  {
   "cell_type": "code",
   "execution_count": 7,
   "metadata": {},
   "outputs": [
    {
     "name": "stdout",
     "output_type": "stream",
     "text": [
      "83445\n"
     ]
    }
   ],
   "source": [
    "print(calculate_repeat(l_int))"
   ]
  }
 ],
 "metadata": {
  "kernelspec": {
   "display_name": "Python 3",
   "language": "python",
   "name": "python3"
  },
  "language_info": {
   "codemirror_mode": {
    "name": "ipython",
    "version": 3
   },
   "file_extension": ".py",
   "mimetype": "text/x-python",
   "name": "python",
   "nbconvert_exporter": "python",
   "pygments_lexer": "ipython3",
   "version": "3.6.5"
  }
 },
 "nbformat": 4,
 "nbformat_minor": 2
}
